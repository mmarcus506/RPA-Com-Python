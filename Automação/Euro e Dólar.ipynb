{
 "cells": [
  {
   "cell_type": "code",
   "execution_count": 3,
   "id": "1f8ffd76",
   "metadata": {},
   "outputs": [
    {
     "ename": "ModuleNotFoundError",
     "evalue": "No module named 'selenium'",
     "output_type": "error",
     "traceback": [
      "\u001b[1;31m---------------------------------------------------------------------------\u001b[0m",
      "\u001b[1;31mModuleNotFoundError\u001b[0m                       Traceback (most recent call last)",
      "Cell \u001b[1;32mIn[3], line 1\u001b[0m\n\u001b[1;32m----> 1\u001b[0m \u001b[39mfrom\u001b[39;00m \u001b[39mselenium\u001b[39;00m \u001b[39mimport\u001b[39;00m webdriver\n\u001b[0;32m      2\u001b[0m abrirNav \u001b[39m=\u001b[39m webdriver\u001b[39m.\u001b[39mChrome()\n\u001b[0;32m      3\u001b[0m abrirNav\u001b[39m.\u001b[39mget(\u001b[39m\"\u001b[39m\u001b[39mhttps://www.google.com.br/\u001b[39m\u001b[39m\"\u001b[39m)\n",
      "\u001b[1;31mModuleNotFoundError\u001b[0m: No module named 'selenium'"
     ]
    }
   ],
   "source": [
    "from selenium import webdriver\n",
    "abrirNav = webdriver.Chrome()\n",
    "abrirNav.get(\"https://www.google.com.br/\")"
   ]
  },
  {
   "cell_type": "code",
   "execution_count": null,
   "id": "6dc73908",
   "metadata": {},
   "outputs": [
    {
     "name": "stdout",
     "output_type": "stream",
     "text": [
      "4,97\n",
      "5,42\n"
     ]
    }
   ],
   "source": [
    "#Importamos para trabalhar com as páginas Web\n",
    "from selenium import webdriver as opcao_selenium\n",
    "from selenium.webdriver.common.keys import Keys\n",
    "\n",
    "#Biblioteca para trabalhar com o .time e teclas\n",
    "import pyautogui as tempo_Pausa\n",
    "\n",
    "#Usando o by para trabalhar com as atualizações mais recentes\n",
    "from selenium.webdriver.common.by import By\n",
    "\n",
    "#Passamos autorização ao acesso do google\n",
    "meuNav= opcao_selenium.Chrome()\n",
    "meuNav.get(\"https://www.google.com.br/\")\n",
    "\n",
    "tempo_Pausa.sleep(3)\n",
    "\n",
    "#Procurando pelo elemento NAME e quando encontrar, escrever Dolar hoje.\n",
    "meuNav.find_element(By.NAME, \"q\").send_keys(\"Dolar Hoje\")\n",
    "\n",
    "tempo_Pausa.sleep(2)\n",
    "\n",
    "# Retorna o campo name q e faz \"enter\"\n",
    "meuNav.find_element(By.NAME, \"q\").send_keys(Keys.RETURN)\n",
    "\n",
    "tempo_Pausa.sleep(2)\n",
    "\n",
    "valordolar = meuNav.find_elements(By.XPATH, '//*[@id=\"knowledge-currency__updatable-data-column\"]/div[1]/div[2]/span[1]')[0].text\n",
    "\n",
    "print(valordolar)\n",
    "\n",
    "\n",
    "#====================================================================\n",
    "tempo_Pausa.sleep(2)\n",
    "meuNav.find_element(By.NAME, \"q\").send_keys(\"\")\n",
    "\n",
    "#Passamos autorização ao acesso do google\n",
    "meuNav= opcao_selenium.Chrome()\n",
    "meuNav.get(\"https://www.google.com.br/\")\n",
    "\n",
    "tempo_Pausa.sleep(3)\n",
    "\n",
    "#Procurando pelo elemento NAME e quando encontrar, escrever Dolar hoje.\n",
    "meuNav.find_element(By.NAME, \"q\").send_keys(\"Euro Hoje\")\n",
    "\n",
    "tempo_Pausa.sleep(2)\n",
    "\n",
    "# Retorna o campo name q e faz \"enter\"\n",
    "meuNav.find_element(By.NAME, \"q\").send_keys(Keys.RETURN)\n",
    "\n",
    "tempo_Pausa.sleep(2)\n",
    "\n",
    "valoreuro = meuNav.find_elements(By.XPATH, '//*[@id=\"knowledge-currency__updatable-data-column\"]/div[1]/div[2]/span[1]')[0].text\n",
    "\n",
    "print(valoreuro)\n",
    "\n",
    "tempo_Pausa.sleep(1)\n",
    "\n",
    "meuNav.close()\n"
   ]
  },
  {
   "cell_type": "code",
   "execution_count": null,
   "id": "7bf42aa3",
   "metadata": {},
   "outputs": [],
   "source": [
    "\n",
    "\n",
    "\n",
    "#===================================================================="
   ]
  }
 ],
 "metadata": {
  "kernelspec": {
   "display_name": "Python 3 (ipykernel)",
   "language": "python",
   "name": "python3"
  },
  "language_info": {
   "codemirror_mode": {
    "name": "ipython",
    "version": 3
   },
   "file_extension": ".py",
   "mimetype": "text/x-python",
   "name": "python",
   "nbconvert_exporter": "python",
   "pygments_lexer": "ipython3",
   "version": "3.11.2"
  }
 },
 "nbformat": 4,
 "nbformat_minor": 5
}
